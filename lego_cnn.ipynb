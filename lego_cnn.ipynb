{
 "cells": [
  {
   "cell_type": "markdown",
   "source": [
    "# Lego CNN"
   ],
   "metadata": {
    "collapsed": false
   },
   "id": "2f4240c751a4254"
  },
  {
   "cell_type": "code",
   "execution_count": 92,
   "id": "initial_id",
   "metadata": {
    "collapsed": true,
    "ExecuteTime": {
     "end_time": "2023-12-15T15:29:58.418061100Z",
     "start_time": "2023-12-15T15:29:58.322761500Z"
    }
   },
   "outputs": [],
   "source": [
    "import pickle\n",
    "import numpy as np\n",
    "import matplotlib.pyplot as plt"
   ]
  },
  {
   "cell_type": "markdown",
   "source": [
    "### Загружаем данные"
   ],
   "metadata": {
    "collapsed": false
   },
   "id": "e5b52cb72e64471b"
  },
  {
   "cell_type": "code",
   "execution_count": 93,
   "outputs": [],
   "source": [
    "train_fh = open('lego-train.pickle', 'rb')\n",
    "test_fh = open('lego-test.pickle', 'rb')\n",
    "\n",
    "train_data = pickle.load(train_fh)\n",
    "test_data = pickle.load(test_fh)"
   ],
   "metadata": {
    "collapsed": false,
    "ExecuteTime": {
     "end_time": "2023-12-15T15:29:58.422242Z",
     "start_time": "2023-12-15T15:29:58.329094500Z"
    }
   },
   "id": "d63368936c97de91"
  },
  {
   "cell_type": "code",
   "execution_count": 94,
   "outputs": [],
   "source": [
    "import torchvision.transforms as transforms\n",
    "from torch.utils.data import TensorDataset, DataLoader\n",
    "\n",
    "train_data_X = np.array([img for (img, _) in train_data])\n",
    "train_data_y = np.array([lbl for (_, lbl) in train_data])\n",
    "\n",
    "test_data_X = np.array([img for (img, _) in test_data])\n",
    "test_data_y = np.array([lbl for (_, lbl) in test_data])"
   ],
   "metadata": {
    "collapsed": false,
    "ExecuteTime": {
     "end_time": "2023-12-15T15:29:58.482323400Z",
     "start_time": "2023-12-15T15:29:58.340835700Z"
    }
   },
   "id": "4fd0f11034366acc"
  },
  {
   "cell_type": "code",
   "execution_count": 95,
   "outputs": [
    {
     "data": {
      "text/plain": "(451, 48, 48, 1)"
     },
     "execution_count": 95,
     "metadata": {},
     "output_type": "execute_result"
    }
   ],
   "source": [
    "train_data_X.shape"
   ],
   "metadata": {
    "collapsed": false,
    "ExecuteTime": {
     "end_time": "2023-12-15T15:29:58.484327200Z",
     "start_time": "2023-12-15T15:29:58.348671500Z"
    }
   },
   "id": "1174321b55492ba3"
  },
  {
   "cell_type": "markdown",
   "source": [
    "### Меняем измерения местами так, как любит pytorch"
   ],
   "metadata": {
    "collapsed": false
   },
   "id": "6551e1c8eed0b51a"
  },
  {
   "cell_type": "code",
   "execution_count": 96,
   "outputs": [
    {
     "data": {
      "text/plain": "(451, 1, 48, 48)"
     },
     "execution_count": 96,
     "metadata": {},
     "output_type": "execute_result"
    }
   ],
   "source": [
    "train_data_X = train_data_X.transpose(0, 3, 1, 2)\n",
    "test_data_X = test_data_X.transpose(0, 3, 1, 2)\n",
    "train_data_X.shape"
   ],
   "metadata": {
    "collapsed": false,
    "ExecuteTime": {
     "end_time": "2023-12-15T15:29:58.500508Z",
     "start_time": "2023-12-15T15:29:58.356689400Z"
    }
   },
   "id": "d27c4e2f33598643"
  },
  {
   "cell_type": "markdown",
   "source": [
    "### Делаем обучающий и тестовый датасеты"
   ],
   "metadata": {
    "collapsed": false
   },
   "id": "73e65599e7741aa7"
  },
  {
   "cell_type": "code",
   "execution_count": 97,
   "outputs": [],
   "source": [
    "img_transforms = transforms.Compose([\n",
    "#    transforms.ToTensor(),\n",
    "    transforms.Normalize(0.13, 0.31)])\n",
    "\n",
    "def get_dataset(X, y):\n",
    "    tensor_x = torch.Tensor(X) # transform to torch tensor\n",
    "    tensor_x = img_transforms(tensor_x)\n",
    "    tensor_y = torch.Tensor(y).long()\n",
    "\n",
    "    dataset = TensorDataset(tensor_x,tensor_y) # create your datset\n",
    "    return dataset\n",
    "\n",
    "train_dataset = get_dataset(train_data_X, train_data_y)\n",
    "test_dataset = get_dataset(test_data_X, test_data_y)"
   ],
   "metadata": {
    "collapsed": false,
    "ExecuteTime": {
     "end_time": "2023-12-15T15:29:58.556287600Z",
     "start_time": "2023-12-15T15:29:58.366792Z"
    }
   },
   "id": "35ebcd78c4472d57"
  },
  {
   "cell_type": "markdown",
   "source": [
    "### Классы"
   ],
   "metadata": {
    "collapsed": false
   },
   "id": "194da29375522ec5"
  },
  {
   "cell_type": "code",
   "execution_count": 98,
   "outputs": [],
   "source": [
    "# For humans:\n",
    "class_names = ['2x3 Brick', '2x2 Brick', '1x3 Brick', '2x1 Brick', '1x1 Brick', '2x2 Macaroni', '2x2 Curved End', 'Cog 16 Tooth', '1x2 Handles', '1x2 Grill']\n"
   ],
   "metadata": {
    "collapsed": false,
    "ExecuteTime": {
     "end_time": "2023-12-15T15:29:58.558289500Z",
     "start_time": "2023-12-15T15:29:58.382610900Z"
    }
   },
   "id": "86aae8810c11a394"
  },
  {
   "cell_type": "markdown",
   "source": [
    "### Проверяем что все нормально отображается"
   ],
   "metadata": {
    "collapsed": false
   },
   "id": "aceea0d58d10a21e"
  },
  {
   "cell_type": "code",
   "execution_count": 99,
   "outputs": [
    {
     "name": "stdout",
     "output_type": "stream",
     "text": [
      "Original shape is  torch.Size([1, 48, 48])\n"
     ]
    },
    {
     "data": {
      "text/plain": "<Figure size 640x480 with 2 Axes>",
      "image/png": "[encoded data removed]"
     },
     "metadata": {},
     "output_type": "display_data"
    }
   ],
   "source": [
    "# the same, but with torch dataset\n",
    "train_dataloader = DataLoader(train_dataset)\n",
    "images_data, label_data = next(iter(train_dataloader)) \n",
    "\n",
    "print('Original shape is ', images_data[0].shape)\n",
    "plt.figure()\n",
    "plt.imshow(images_data[0].permute(1, 2, 0).numpy())\n",
    "plt.colorbar()\n",
    "plt.xlabel(class_names[label_data])\n",
    "plt.show()"
   ],
   "metadata": {
    "collapsed": false,
    "ExecuteTime": {
     "end_time": "2023-12-15T15:29:58.664343200Z",
     "start_time": "2023-12-15T15:29:58.388561700Z"
    }
   },
   "id": "3805dcab7c46d729"
  },
  {
   "cell_type": "markdown",
   "source": [
    "### Создаем нейронку"
   ],
   "metadata": {
    "collapsed": false
   },
   "id": "b569aac265302813"
  },
  {
   "cell_type": "code",
   "execution_count": 100,
   "outputs": [],
   "source": [
    "import torch.nn as nn\n",
    "\n",
    "class Net(nn.Module):\n",
    "    def __init__(self):\n",
    "        super(Net, self).__init__()\n",
    "        \n",
    "        # Первый слой свертки и пулинга\n",
    "        self.conv1 = nn.Conv2d(1, 32, kernel_size=3, stride=1, padding=1)\n",
    "        self.relu1 = nn.ReLU()\n",
    "        self.maxpool1 = nn.MaxPool2d(kernel_size=2, stride=2)\n",
    "\n",
    "        # Второй слой свертки и пулинга\n",
    "        self.conv2 = nn.Conv2d(32, 64, kernel_size=3, stride=1, padding=1)\n",
    "        self.relu2 = nn.ReLU()\n",
    "        self.maxpool2 = nn.MaxPool2d(kernel_size=2, stride=2)\n",
    "\n",
    "        # Выпрямляем выход\n",
    "        self.flatten = nn.Flatten()\n",
    "        \n",
    "        # Дальше идут линейные слои, работающие с выделенными признаками\n",
    "        self.fc1 = nn.Linear(64 * 12 * 12, 512)\n",
    "        self.relu3 = nn.ReLU()\n",
    "\n",
    "        self.fc2 = nn.Linear(512, 256)\n",
    "        self.relu4 = nn.ReLU()\n",
    "\n",
    "        self.fc3 = nn.Linear(256, 10)\n",
    "\n",
    "    def forward(self, x):\n",
    "        # Проход всех слоев\n",
    "        \n",
    "        x = self.conv1(x)\n",
    "        x = self.relu1(x)\n",
    "        x = self.maxpool1(x)\n",
    "\n",
    "        x = self.conv2(x)\n",
    "        x = self.relu2(x)\n",
    "        x = self.maxpool2(x)\n",
    "\n",
    "        x = self.flatten(x)\n",
    "        x = self.fc1(x)\n",
    "        x = self.relu3(x)\n",
    "\n",
    "        x = self.fc2(x)\n",
    "        x = self.relu4(x)\n",
    "\n",
    "        x = self.fc3(x)\n",
    "\n",
    "        return x\n"
   ],
   "metadata": {
    "collapsed": false,
    "ExecuteTime": {
     "end_time": "2023-12-15T15:29:58.665342700Z",
     "start_time": "2023-12-15T15:29:58.606347400Z"
    }
   },
   "id": "3aec9157cbd9e180"
  },
  {
   "cell_type": "markdown",
   "source": [
    "### Две обертки которые перемещают между устройствами данные и модель"
   ],
   "metadata": {
    "collapsed": false
   },
   "id": "d9a2ff28daa0c5c5"
  },
  {
   "cell_type": "code",
   "execution_count": 101,
   "outputs": [],
   "source": [
    "def to_device(data, device):\n",
    "    if isinstance(data, (list,tuple)):\n",
    "        return [to_device(x, device) for x in data]\n",
    "    return data.to(device, non_blocking=True)\n",
    "\n",
    "class DeviceDataLoader():\n",
    "    def __init__(self, dl, device):\n",
    "        self.dl = dl\n",
    "        self.device = device\n",
    "        \n",
    "    def __iter__(self):\n",
    "        for b in self.dl: \n",
    "            yield to_device(b, self.device)\n",
    "\n",
    "    def __len__(self):\n",
    "        return len(self.dl)\n",
    "    \n"
   ],
   "metadata": {
    "collapsed": false,
    "ExecuteTime": {
     "end_time": "2023-12-15T15:29:58.665342700Z",
     "start_time": "2023-12-15T15:29:58.613057200Z"
    }
   },
   "id": "b88d9e35bb7fb272"
  },
  {
   "cell_type": "markdown",
   "source": [
    "### Выбор девайса"
   ],
   "metadata": {
    "collapsed": false
   },
   "id": "8ff7a1a19ee8ee4f"
  },
  {
   "cell_type": "code",
   "execution_count": 102,
   "outputs": [],
   "source": [
    "device = 'cuda'\n",
    "# device = 'cpu'"
   ],
   "metadata": {
    "collapsed": false,
    "ExecuteTime": {
     "end_time": "2023-12-15T15:29:58.665342700Z",
     "start_time": "2023-12-15T15:29:58.619556500Z"
    }
   },
   "id": "4d1cfde9a2769121"
  },
  {
   "cell_type": "markdown",
   "source": [
    "### Параметры модели"
   ],
   "metadata": {
    "collapsed": false
   },
   "id": "b2640e972a254eaa"
  },
  {
   "cell_type": "code",
   "execution_count": 103,
   "outputs": [],
   "source": [
    "BATCH_SIZE = 32\n",
    "EPOCHS = 10\n",
    "LR = 0.001"
   ],
   "metadata": {
    "collapsed": false,
    "ExecuteTime": {
     "end_time": "2023-12-15T15:29:58.665342700Z",
     "start_time": "2023-12-15T15:29:58.625437400Z"
    }
   },
   "id": "9ef81caf56dc6dd4"
  },
  {
   "cell_type": "markdown",
   "source": [
    "### Получаем модель и данные на нужных устройствах"
   ],
   "metadata": {
    "collapsed": false
   },
   "id": "b42676fb952138ff"
  },
  {
   "cell_type": "code",
   "execution_count": 104,
   "outputs": [],
   "source": [
    "train_dataloader = DeviceDataLoader(\n",
    "    DataLoader(train_dataset, batch_size= BATCH_SIZE), device)\n",
    "test_dataloader =  DeviceDataLoader(DataLoader(test_dataset), device)\n",
    "\n",
    "net = to_device(Net(), device)"
   ],
   "metadata": {
    "collapsed": false,
    "ExecuteTime": {
     "end_time": "2023-12-15T15:29:58.806528300Z",
     "start_time": "2023-12-15T15:29:58.631980600Z"
    }
   },
   "id": "7aecfed776cbe0e8"
  },
  {
   "cell_type": "code",
   "execution_count": 105,
   "outputs": [
    {
     "name": "stdout",
     "output_type": "stream",
     "text": [
      "0.00%, train_acc: 22.71%, test_acc: 27.33%\n",
      "10.00%, train_acc: 58.96%, test_acc: 76.00%\n",
      "20.00%, train_acc: 86.04%, test_acc: 97.33%\n",
      "30.00%, train_acc: 97.29%, test_acc: 100.00%\n",
      "40.00%, train_acc: 99.58%, test_acc: 100.00%\n",
      "50.00%, train_acc: 99.79%, test_acc: 100.00%\n",
      "60.00%, train_acc: 99.79%, test_acc: 100.00%\n",
      "70.00%, train_acc: 99.79%, test_acc: 100.00%\n",
      "80.00%, train_acc: 99.79%, test_acc: 100.00%\n",
      "90.00%, train_acc: 99.79%, test_acc: 100.00%\n"
     ]
    },
    {
     "data": {
      "text/plain": "<Figure size 640x480 with 1 Axes>",
      "image/png": "[encoded data removed]"
     },
     "metadata": {},
     "output_type": "display_data"
    }
   ],
   "source": [
    "import torch\n",
    "import torch.nn as nn\n",
    "import torch.optim as optim\n",
    "\n",
    "# Определяем функцию потерь и метод оптимизации\n",
    "criterion = nn.CrossEntropyLoss()\n",
    "optimizer = optim.SGD(net.parameters(), lr=LR)\n",
    "\n",
    "\n",
    "# Определение функции для вычисления точности\n",
    "def accuracy(outputs, labels):\n",
    "    _, predicted = torch.max(outputs, 1)\n",
    "    correct = (predicted == labels).sum().item()\n",
    "    total = labels.size(0)\n",
    "    return correct / total\n",
    "\n",
    "\n",
    "# Сюда будем заносить скоры модели в зависимости от эпохи\n",
    "train_accuracies = []\n",
    "test_accuracies = []\n",
    "\n",
    "# Сам процесс обучения\n",
    "for epoch in range(EPOCHS):\n",
    "    # Переводим модель в режим обучения \n",
    "    net.train()\n",
    "    total_train_accuracy = 0.0\n",
    "    for images, labels in train_dataloader:\n",
    "        # Применяем модель к данным\n",
    "        outputs = net(images)\n",
    "        # Вычисляем функцию потерь\n",
    "        loss = criterion(outputs, labels)\n",
    "\n",
    "        # Обнуляем градиент\n",
    "        optimizer.zero_grad()\n",
    "        # Вычисляем градиенты по параметрам\n",
    "        loss.backward()\n",
    "        # Обновляем параметры\n",
    "        optimizer.step()\n",
    "\n",
    "        # Добавляем скор на пачке к общему скору\n",
    "        total_train_accuracy += accuracy(outputs, labels)\n",
    "\n",
    "    # Считаем общий скор и добавляем в массив\n",
    "    average_train_accuracy = total_train_accuracy / len(train_dataloader)\n",
    "    train_accuracies.append(average_train_accuracy)\n",
    "\n",
    "    # Переводим модель в режим оценки и считаем скор на тесте\n",
    "    net.eval()\n",
    "    total_test_accuracy = 0.0\n",
    "    with torch.no_grad():\n",
    "        for images, labels in test_dataloader:\n",
    "            outputs = net(images)\n",
    "            total_test_accuracy += accuracy(outputs, labels)\n",
    "    # Получаем тестовый скор\n",
    "    average_test_accuracy = total_test_accuracy / len(test_dataloader)\n",
    "    test_accuracies.append(average_test_accuracy)\n",
    "    # Печатаем результаты итерации\n",
    "    print(f'{epoch/EPOCHS*100:.2f}%, train_acc: {average_train_accuracy*100:.2f}%,'\n",
    "          f' test_acc: {average_test_accuracy*100:.2f}%')\n",
    "\n",
    "# Построение графика\n",
    "epochs_range = range(1, EPOCHS+1)\n",
    "plt.plot(epochs_range, train_accuracies, label='Train Accuracy')\n",
    "plt.plot(epochs_range, test_accuracies, label='Test Accuracy')\n",
    "plt.xlabel('Epochs')\n",
    "plt.ylabel('Accuracy')\n",
    "plt.title('Training and Testing Accuracy Over Epochs')\n",
    "plt.legend()\n",
    "plt.show()\n"
   ],
   "metadata": {
    "collapsed": false,
    "ExecuteTime": {
     "end_time": "2023-12-15T15:30:01.528148700Z",
     "start_time": "2023-12-15T15:29:58.700910200Z"
    }
   },
   "id": "ccf844971529564a"
  },
  {
   "cell_type": "markdown",
   "source": [
    "## Картинка отображающая архитектуру модели"
   ],
   "metadata": {
    "collapsed": false
   },
   "id": "51be70b7796bb8f9"
  },
  {
   "cell_type": "code",
   "execution_count": 149,
   "outputs": [
    {
     "data": {
      "text/plain": "'model_architecture.pdf'"
     },
     "execution_count": 149,
     "metadata": {},
     "output_type": "execute_result"
    }
   ],
   "source": [
    "import torch\n",
    "from torchviz import make_dot\n",
    "\n",
    "# Создайте экземпляр вашей модели\n",
    "model = to_device(net, 'cpu')\n",
    "\n",
    "# Задайте входные данные\n",
    "example_input = torch.randn(1, 1, 48, 48)  # Пример размера входных данных\n",
    "\n",
    "# Получите выход модели\n",
    "example_output = model(example_input)\n",
    "\n",
    "# Создайте граф\n",
    "graph = make_dot(example_output, params=dict(model.named_parameters()))\n",
    "\n",
    "# Сохраните граф в файл\n",
    "graph.render(\"model_architecture\", format=\"png\", cleanup=True)\n",
    "\n",
    "# Отобразите граф\n",
    "graph.view()\n"
   ],
   "metadata": {
    "collapsed": false,
    "ExecuteTime": {
     "end_time": "2023-12-15T15:50:37.167065800Z",
     "start_time": "2023-12-15T15:50:36.098645100Z"
    }
   },
   "id": "21fcd83d1a5425b1"
  },
  {
   "cell_type": "markdown",
   "source": [
    "![architecture](model_architecture.png)"
   ],
   "metadata": {
    "collapsed": false
   },
   "id": "3209b650ae310ba2"
  },
  {
   "cell_type": "code",
   "execution_count": null,
   "outputs": [],
   "source": [],
   "metadata": {
    "collapsed": false
   },
   "id": "ea151cbd6eb2e791"
  }
 ],
 "metadata": {
  "kernelspec": {
   "display_name": "Python 3",
   "language": "python",
   "name": "python3"
  },
  "language_info": {
   "codemirror_mode": {
    "name": "ipython",
    "version": 2
   },
   "file_extension": ".py",
   "mimetype": "text/x-python",
   "name": "python",
   "nbconvert_exporter": "python",
   "pygments_lexer": "ipython2",
   "version": "2.7.6"
  }
 },
 "nbformat": 4,
 "nbformat_minor": 5
}
